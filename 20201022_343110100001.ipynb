{
  "nbformat": 4,
  "nbformat_minor": 0,
  "metadata": {
    "colab": {
      "name": "20201022_343110100001.ipynb",
      "provenance": [],
      "collapsed_sections": [],
      "authorship_tag": "ABX9TyOwIhBxGCTwiVzm7M0DP9Bk",
      "include_colab_link": true
    },
    "kernelspec": {
      "name": "python3",
      "display_name": "Python 3"
    }
  },
  "cells": [
    {
      "cell_type": "markdown",
      "metadata": {
        "id": "view-in-github",
        "colab_type": "text"
      },
      "source": [
        "<a href=\"https://colab.research.google.com/github/Zohic/test_polytech/blob/master/20201022_343110100001.ipynb\" target=\"_parent\"><img src=\"https://colab.research.google.com/assets/colab-badge.svg\" alt=\"Open In Colab\"/></a>"
      ]
    },
    {
      "cell_type": "markdown",
      "metadata": {
        "id": "9Ttg6aRqQJpm"
      },
      "source": [
        "<h1>2020.10.22 3431101/00001</h1>\n",
        "Назиров Захар\n",
        "\n",
        "Задание:\n",
        "Найти приложение на телефоне<br>\n",
        "Решение:<br>\n",
        "\n"
      ]
    },
    {
      "cell_type": "code",
      "metadata": {
        "id": "-7Pi9fbAR2sv",
        "outputId": "573aa013-82e5-4e40-d988-95f33f2123dd",
        "colab": {
          "base_uri": "https://localhost:8080/",
          "height": 34
        }
      },
      "source": [
        "class Phone:\n",
        "    \n",
        "    def __init__(self):\n",
        "      self.curScreen = 0\n",
        "      self.screens = []\n",
        " \n",
        "    def GetScreensCount(self):\n",
        "      return len(self.screens)\n",
        "\n",
        "    def GetCurrentScreenId(self):\n",
        "      return self.curScreen\n",
        " \n",
        "    def NextScreen(self):\n",
        "      self.curScreen = (self.curScreen+1)%len(self.screens)\n",
        "\n",
        "    def GetAppName(self, n):\n",
        "      if n<len(self.screen[self.curScreen]):\n",
        "        return self.screen[self.curScreen][n]\n",
        "    \n",
        "    def FindOnWhichPageAndPosTheApp(self, appName):\n",
        "      found = False\n",
        "      result = [-1,-1]\n",
        "      for i in range(len(self.screens)):\n",
        "        for j in range(len(self.screens[i])):\n",
        "          if self.screens[i][j] == appName:\n",
        "            result = [i,j]\n",
        "            found = True\n",
        "            print(result)\n",
        "      if not found:\n",
        "        print(\"the app does not exist\")\n",
        "\n",
        "\n",
        "\n",
        "\n",
        "\n",
        "thePhone = Phone()\n",
        "\n",
        "thePhone.screens.append([\"Google Calendaar\", \"Yandex Disk\", \"Zotero\", \"Bolt\", \"Zoom\"])\n",
        "thePhone.screens.append([\"Tinder\", \"Discord\", \"Instagram\", \"Telegram\"])\n",
        "thePhone.screens.append([\"Google Drive\", \"TikTok\", \"Zotero\"])\n",
        "\n",
        "thePhone.FindOnWhichPageAndPosTheApp(\"Instagram\")\n",
        "\n"
      ],
      "execution_count": 26,
      "outputs": [
        {
          "output_type": "stream",
          "text": [
            "[1, 2]\n"
          ],
          "name": "stdout"
        }
      ]
    }
  ]
}