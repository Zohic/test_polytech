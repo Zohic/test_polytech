{
  "nbformat": 4,
  "nbformat_minor": 0,
  "metadata": {
    "colab": {
      "name": "3431101_00001 05.11.20.ipynb",
      "provenance": [],
      "collapsed_sections": [],
      "authorship_tag": "ABX9TyNm4DwrQUC+3Bdz4dc4UV/L",
      "include_colab_link": true
    },
    "kernelspec": {
      "name": "python3",
      "display_name": "Python 3"
    }
  },
  "cells": [
    {
      "cell_type": "markdown",
      "metadata": {
        "id": "view-in-github",
        "colab_type": "text"
      },
      "source": [
        "<a href=\"https://colab.research.google.com/github/Zohic/test_polytech/blob/master/3431101_00001_05_11_20.ipynb\" target=\"_parent\"><img src=\"https://colab.research.google.com/assets/colab-badge.svg\" alt=\"Open In Colab\"/></a>"
      ]
    },
    {
      "cell_type": "markdown",
      "metadata": {
        "id": "0BIQafK1hULh"
      },
      "source": [
        "Nazirov Zakhar 05.11.20"
      ]
    },
    {
      "cell_type": "code",
      "metadata": {
        "id": "53MGP1HCSuSN",
        "outputId": "63004d07-ba1f-42e3-b2ac-9fa383f3cd29",
        "colab": {
          "base_uri": "https://localhost:8080/"
        }
      },
      "source": [
        "import random\n",
        "import math\n",
        "\n",
        "\n",
        "\n",
        "def bin(data, x):\n",
        "  #искомое число\n",
        "  #флаги \n",
        "  found = False\n",
        "  exist = True\n",
        "  #переменные для поиска\n",
        "  pos = len(myList)/2\n",
        "  curLen = pos+1\n",
        "\n",
        "  while (not found) and exist:\n",
        "    toAdd = curLen/2\n",
        "    if toAdd>0:\n",
        "      if myList[math.floor(pos)]>x:\n",
        "        pos -=toAdd\n",
        "        curLen = (curLen)/2\n",
        "      elif myList[math.floor(pos)]<x:\n",
        "        pos +=toAdd\n",
        "        curLen = (curLen)/2\n",
        "      else:\n",
        "        found = True\n",
        "    else:\n",
        "      exist = False\n",
        "  if exist:\n",
        "    return math.floor(pos)\n",
        "  else:\n",
        "    return -1\n",
        "  \n",
        "myList = []\n",
        "for i in range(1,1000001):\n",
        "  myList.append(math.floor(random.random()*100))\n",
        "\n",
        "myList.sort()\n",
        "\n",
        "%timeit bin(myList, 32)\n",
        "# len   ms   loops\n",
        "#   1 - 356  10^3\n",
        "#   1 - 354  10^3\n",
        "#  10 - 489  10^3\n",
        "#  10 - 559  10^3\n",
        "# 100 - 2.62 10^5\n",
        "# 100 - 1.24 10^6\n",
        "#1000 - 3.03 10^5\n",
        "#1000 - 2.99 10^5\n",
        "#10^6 - 3.52 10^5\n",
        "#10^6 - 13   10^5\n",
        "#10^6 - 12   10^5\n",
        "#10^8 - 15   10^5\n"
      ],
      "execution_count": 151,
      "outputs": [
        {
          "output_type": "stream",
          "text": [
            "The slowest run took 4.02 times longer than the fastest. This could mean that an intermediate result is being cached.\n",
            "100000 loops, best of 3: 2.98 µs per loop\n"
          ],
          "name": "stdout"
        }
      ]
    }
  ]
}